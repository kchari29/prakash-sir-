{
 "cells": [
  {
   "cell_type": "markdown",
   "metadata": {},
   "source": [
    "# HW 4 submission"
   ]
  },
  {
   "cell_type": "code",
   "execution_count": 1,
   "metadata": {},
   "outputs": [
    {
     "name": "stderr",
     "output_type": "stream",
     "text": [
      "--2020-06-11 13:15:05--  https://ndownloader.figshare.com/files/12948515\n",
      "Resolving ndownloader.figshare.com (ndownloader.figshare.com)... 34.246.9.175, 34.243.191.39, 52.49.200.187, ...\n",
      "Connecting to ndownloader.figshare.com (ndownloader.figshare.com)|34.246.9.175|:443... connected.\n",
      "HTTP request sent, awaiting response... 302 Found\n",
      "Location: https://s3-eu-west-1.amazonaws.com/pfigshare-u-files/12948515/july2018temperatureprecip.csv [following]\n",
      "--2020-06-11 13:15:09--  https://s3-eu-west-1.amazonaws.com/pfigshare-u-files/12948515/july2018temperatureprecip.csv\n",
      "Resolving s3-eu-west-1.amazonaws.com (s3-eu-west-1.amazonaws.com)... 52.218.80.76\n",
      "Connecting to s3-eu-west-1.amazonaws.com (s3-eu-west-1.amazonaws.com)|52.218.80.76|:443... connected.\n",
      "HTTP request sent, awaiting response... 200 OK\n",
      "Length: 565 [text/csv]\n",
      "Saving to: '12948515'\n",
      "\n",
      "     0K                                                       100% 1.35M=0s\n",
      "\n",
      "2020-06-11 13:15:10 (1.35 MB/s) - '12948515' saved [565/565]\n",
      "\n",
      "--2020-06-11 13:15:10--  http://as/\n",
      "Resolving as (as)... 78.47.226.171\n",
      "Connecting to as (as)|78.47.226.171|:80... connected.\n",
      "HTTP request sent, awaiting response... 403 Forbidden\n",
      "2020-06-11 13:15:10 ERROR 403: Forbidden.\n",
      "\n",
      "--2020-06-11 13:15:10--  http://filename/\n",
      "Resolving filename (filename)... failed: No such host is known. .\n",
      "wget: unable to resolve host address 'filename'\n",
      "--2020-06-11 13:15:13--  http://boulder.csv/\n",
      "Resolving boulder.csv (boulder.csv)... failed: No such host is known. .\n",
      "wget: unable to resolve host address 'boulder.csv'\n",
      "FINISHED --2020-06-11 13:15:13--\n",
      "Total wall clock time: 8.0s\n",
      "Downloaded: 1 files, 565 in 0s (1.35 MB/s)\n"
     ]
    }
   ],
   "source": [
    "!wget https://ndownloader.figshare.com/files/12948515 as filename boulder.csv"
   ]
  },
  {
   "cell_type": "code",
   "execution_count": null,
   "metadata": {},
   "outputs": [],
   "source": []
  },
  {
   "cell_type": "code",
   "execution_count": null,
   "metadata": {},
   "outputs": [],
   "source": []
  },
  {
   "cell_type": "code",
   "execution_count": null,
   "metadata": {},
   "outputs": [],
   "source": []
  }
 ],
 "metadata": {
  "kernelspec": {
   "display_name": "Python 3",
   "language": "python",
   "name": "python3"
  },
  "language_info": {
   "codemirror_mode": {
    "name": "ipython",
    "version": 3
   },
   "file_extension": ".py",
   "mimetype": "text/x-python",
   "name": "python",
   "nbconvert_exporter": "python",
   "pygments_lexer": "ipython3",
   "version": "3.7.6"
  }
 },
 "nbformat": 4,
 "nbformat_minor": 4
}
